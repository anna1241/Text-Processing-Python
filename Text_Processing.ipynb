{
  "nbformat": 4,
  "nbformat_minor": 0,
  "metadata": {
    "colab": {
      "provenance": []
    },
    "kernelspec": {
      "name": "python3",
      "display_name": "Python 3"
    },
    "language_info": {
      "name": "python"
    }
  },
  "cells": [
    {
      "cell_type": "code",
      "source": [
        "import re\n",
        "import math\n",
        "from collections import Counter\n",
        "\n",
        "def to_lower(sample):\n",
        "    return sample.lower()\n",
        "\n",
        "def remove_stop_words(sample, stop_words):\n",
        "    words = sample.split()\n",
        "    filtered_words = [word for word in words if word not in stop_words]\n",
        "    return ' '.join(filtered_words)\n",
        "\n",
        "def normalize_data(sample, stop_words):\n",
        "    sample_lower = to_lower(sample)\n",
        "    sample_without_stopwords = remove_stop_words(sample_lower, stop_words)\n",
        "    return sample_without_stopwords\n",
        "\n",
        "def unique_words(sample):\n",
        "    return set(sample.split())\n",
        "\n",
        "def bag_of_words(sample_list):\n",
        "    all_unique_words = set()\n",
        "    for sample in sample_list:\n",
        "        all_unique_words.update(unique_words(sample))\n",
        "    return list(all_unique_words)\n",
        "\n",
        "def tf(word, sample):\n",
        "    words = sample.split()\n",
        "    word_count = Counter(words)\n",
        "    return word_count[word] / len(words)\n",
        "\n",
        "def idf(word, sample_list):\n",
        "    num_samples_with_word = sum(1 for sample in sample_list if word in sample)\n",
        "    return math.log(len(sample_list) / (1 + num_samples_with_word))\n",
        "\n",
        "def tf_idf(sample_list, bag_of_words):\n",
        "    tfidf_matrix = []\n",
        "    for sample in sample_list:\n",
        "        tfidf_vector = [tf(word, sample) * idf(word, sample_list) for word in bag_of_words]\n",
        "        tfidf_matrix.append(tfidf_vector)\n",
        "    return tfidf_matrix\n",
        "\n",
        "def cosine_similarity(v1, v2):\n",
        "    dot_product = sum(x * y for x, y in zip(v1, v2))\n",
        "    magnitude_v1 = math.sqrt(sum(x ** 2 for x in v1))\n",
        "    magnitude_v2 = math.sqrt(sum(y ** 2 for y in v2))\n",
        "    return dot_product / (magnitude_v1 * magnitude_v2)\n",
        "\n",
        "def rank(W_ij):\n",
        "    q_vector = W_ij[0]\n",
        "    similarities = {}\n",
        "    for i in range(1, len(W_ij)):\n",
        "        similarity = cosine_similarity(q_vector, W_ij[i])\n",
        "        similarities[f\"sample{i}\"] = round(similarity, 2)\n",
        "    sorted_similarities = {k: v for k, v in sorted(similarities.items(), key=lambda item: item[1], reverse=True)}\n",
        "    return sorted_similarities\n",
        "\n",
        "stop_words = set([\"i\", \"am\", \"to\", \"your\", \"for\", \"and\", \"it\", \"is\", \"a\", \"with\", \"or\", \"on\", \"can\", \"almost\", \"all\", \"by\", \"of\", \"its\", \"quite\", \"which\"])\n",
        "\n",
        "sample1 = \"Emacs is the best IDE for almost all types of programming languages which is mostly used by idiots of world. probably they do not care about the productivity. Rather their focus could be on quality and its flexibility. Similarly Lisp is the quite geek language which is used by hackers( not tom, dick and harry ).\"\n",
        "sample2 = \"I am thrilled to see your enthusiasm for data science and analytics. It is a dynamic field with endless possibilities, and I am here to support your journey. Feel free to reach out for guidance or to discuss any projects you are working on. Together, we can explore the exciting world of data-driven insights and solutions.\"\n",
        "\n",
        "line1 = \"Learning Lisp programming language is a time waste.\"\n",
        "line2 = \"Data science is subject of future\"\n",
        "\n",
        "line1_normalized = normalize_data(line1, stop_words)\n",
        "line2_normalized = normalize_data(line2, stop_words)\n",
        "sample_list = [sample1, sample2, line1_normalized, line2_normalized]\n",
        "bag_of_words_list = bag_of_words(sample_list)\n",
        "tfidf_matrix = tf_idf(sample_list, bag_of_words_list)\n",
        "ranked_documents = rank(tfidf_matrix)\n",
        "print(ranked_documents)\n"
      ],
      "metadata": {
        "colab": {
          "base_uri": "https://localhost:8080/"
        },
        "id": "hdFIcksvqeon",
        "outputId": "c627e6bd-4038-4f6a-9a89-1e9b7bf84d4f"
      },
      "execution_count": null,
      "outputs": [
        {
          "output_type": "stream",
          "name": "stdout",
          "text": [
            "{'sample1': 0.05, 'sample2': 0.02, 'sample3': 0.0}\n"
          ]
        }
      ]
    }
  ]
}