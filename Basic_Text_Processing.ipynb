{
  "cells": [
    {
      "cell_type": "markdown",
      "source": [
        "# <center> DS3001 - Data Analysis & Visualization - Lab Manual - 1.1 </center>"
      ],
      "metadata": {
        "id": "TtN-gspSKRA_"
      }
    },
    {
      "cell_type": "markdown",
      "source": [
        "## Q1: Verbing"
      ],
      "metadata": {
        "id": "oErPOITtRlLb"
      }
    },
    {
      "cell_type": "code",
      "execution_count": null,
      "metadata": {
        "id": "mZ2V-vy4KX1c",
        "colab": {
          "base_uri": "https://localhost:8080/"
        },
        "outputId": "7d8354e3-1649-4f82-af50-21eb42c6c31a"
      },
      "outputs": [
        {
          "output_type": "stream",
          "name": "stdout",
          "text": [
            "NA\n",
            "claping\n",
            "stringly\n"
          ]
        }
      ],
      "source": [
        "def verbing(s):\n",
        "  length = len(s)\n",
        "\n",
        "  if length > 2:\n",
        "    if s[-3:] == 'ing':\n",
        "      s += 'ly'\n",
        "    else:\n",
        "      s += 'ing'\n",
        "\n",
        "  return s\n",
        "print(verbing('NA'))\n",
        "print(verbing('clap'))\n",
        "print(verbing('string'))"
      ]
    },
    {
      "cell_type": "markdown",
      "source": [
        "## Q2: Not Bad"
      ],
      "metadata": {
        "id": "fJJlYbQxRyJs"
      }
    },
    {
      "cell_type": "code",
      "execution_count": null,
      "metadata": {
        "id": "6XLBuJ7qKVc_",
        "colab": {
          "base_uri": "https://localhost:8080/"
        },
        "outputId": "84ca6f98-f6b9-49d0-e85f-f988511cc289"
      },
      "outputs": [
        {
          "output_type": "stream",
          "name": "stdout",
          "text": [
            "This dinner is good\n"
          ]
        }
      ],
      "source": [
        "def not_bad(s):\n",
        "  snot = s.find('not')\n",
        "  spoor = s.find('bad')\n",
        "\n",
        "\n",
        "  if spoor > snot and snot>0 and spoor>0:\n",
        "    s = s.replace(s[snot:(spoor+4)], 'good')\n",
        "    return s\n",
        "  else:\n",
        "    return s\n",
        "print(not_bad('This dinner is not that bad!'))"
      ]
    },
    {
      "cell_type": "markdown",
      "source": [
        "## Q3: Front Back"
      ],
      "metadata": {
        "id": "eAyDR6A0R4BS"
      }
    },
    {
      "cell_type": "code",
      "execution_count": null,
      "metadata": {
        "id": "rHM9y9yjKU8j"
      },
      "outputs": [],
      "source": [
        "def front_back(a, b):\n",
        "\n",
        "  a_len = len(a)\n",
        "  a_res = int(a_len / 2)\n",
        "  if a_len % 2:\n",
        "    a_res = a_res + 1\n",
        "\n",
        "  a_front = a[:a_res]\n",
        "  a_back = a[a_res:]\n",
        "\n",
        "  b_len = len(b)\n",
        "  b_res = int(b_len / 2)\n",
        "  if b_len % 2:\n",
        "    b_res = b_res + 1\n",
        "\n",
        "  b_front = b[:b_res]\n",
        "  b_back = b[b_res:]\n",
        "\n",
        "  return a_front + b_front + a_back + b_back"
      ]
    },
    {
      "cell_type": "code",
      "source": [
        "a = 'abcde'\n",
        "b = 'xyz'\n",
        "\n",
        "print(front_back(a,b))"
      ],
      "metadata": {
        "colab": {
          "base_uri": "https://localhost:8080/"
        },
        "id": "R90CzzN5WcD7",
        "outputId": "a06ed568-d02c-45c6-8190-2dae9f9bee5e"
      },
      "execution_count": null,
      "outputs": [
        {
          "output_type": "stream",
          "name": "stdout",
          "text": [
            "abcxydez\n"
          ]
        }
      ]
    },
    {
      "cell_type": "markdown",
      "source": [
        "## Q4: Remove Ajacent"
      ],
      "metadata": {
        "id": "fbA11FbqR9GZ"
      }
    },
    {
      "cell_type": "code",
      "execution_count": null,
      "metadata": {
        "id": "VVexaC52JXNg"
      },
      "outputs": [],
      "source": [
        "def remove_adjacent(nums):\n",
        "  result = []\n",
        "  for num in nums:\n",
        "    if len(result) == 0 or num != result[-1]:\n",
        "      result.append(num)\n",
        "  return result"
      ]
    },
    {
      "cell_type": "code",
      "source": [
        "a = [1, 2, 2, 3]\n",
        "print(remove_adjacent(a))"
      ],
      "metadata": {
        "colab": {
          "base_uri": "https://localhost:8080/"
        },
        "id": "jlXJ5_GRY2h2",
        "outputId": "da52baf0-6062-4304-b01c-020ec739f8c2"
      },
      "execution_count": null,
      "outputs": [
        {
          "output_type": "stream",
          "name": "stdout",
          "text": [
            "[1, 2, 3]\n"
          ]
        }
      ]
    },
    {
      "cell_type": "markdown",
      "source": [
        "## Q5: Linear Merge"
      ],
      "metadata": {
        "id": "8DyW_ILdSBeR"
      }
    },
    {
      "cell_type": "code",
      "execution_count": null,
      "metadata": {
        "id": "wSeuLqs4JOZk"
      },
      "outputs": [],
      "source": [
        "def linear_merge(list1, list2):\n",
        "  result = []\n",
        "  while len(list1) and len(list2):\n",
        "    if list1[0] < list2[0]:\n",
        "      result.append(list1.pop(0))\n",
        "    else:\n",
        "      result.append(list2.pop(0))\n",
        "\n",
        "  result.extend(list1)\n",
        "  result.extend(list2)\n",
        "  return result"
      ]
    },
    {
      "cell_type": "markdown",
      "source": [
        "## Main Function"
      ],
      "metadata": {
        "id": "BUpzDi3dSINo"
      }
    },
    {
      "cell_type": "code",
      "execution_count": null,
      "metadata": {
        "id": "4zwDRf_CH3-O"
      },
      "outputs": [],
      "source": [
        "def main():\n",
        "  print('verbing')\n",
        "  print('Actual: %s \\t Expected: %s' % (verbing('hail'), 'hailing'))\n",
        "  print('Actual: %s \\t Expected: %s' % (verbing('swiming'), 'swimingly'))\n",
        "  print('Actual: %s \\t\\t Expected: %s' % (verbing('do'), 'do'))\n",
        "\n",
        "  print(\"\\n\")\n",
        "  print('not_bad')\n",
        "  print('Actual: %s \\t\\t Expected: %s' % (not_bad('This movie is not so bad'), 'This movie is good'))\n",
        "  print('Actual: %s \\t\\t Expected: %s' % (not_bad('This dinner is not that bad!'), 'This dinner is good!'))\n",
        "  print('Actual: %s \\t\\t Expected: %s' % (not_bad('This tea is not hot'), 'This tea is not hot'))\n",
        "  print('Actual: %s \\t\\t Expected: %s' % (not_bad(\"It's bad yet not\"), \"It's bad yet not\"))\n",
        "\n",
        "  print(\"\\n\")\n",
        "  print('front_back')\n",
        "  print('Actual: %s \\t\\t\\t Expected: %s' % (front_back('abcd', 'xy'), 'abxcdy'))\n",
        "  print('Actual: %s \\t\\t Expected: %s' % (front_back('abcde', 'xyz'), 'abcxydez'))\n",
        "  print('Actual: %s \\t\\t Expected: %s' % (front_back('Kitten', 'Donut'), 'KitDontenut'))\n",
        "\n",
        "  print(\"\\n\")\n",
        "  print('remove_adjacent')\n",
        "  print('Actual: %s \\t Expected: %s' % (remove_adjacent([1, 2, 2, 3]), [1, 2, 3]))\n",
        "  print('Actual: %s \\t\\t Expected: %s' % (remove_adjacent([2, 2, 3, 3, 3]), [2, 3]))\n",
        "  print('Actual: %s \\t\\t Expected: %s' % (remove_adjacent([]), []))\n",
        "\n",
        "\n",
        "  print(\"\\n\")\n",
        "  print('linear_merge')\n",
        "  print('Actual: %s \\t\\t Expected: %s' % (linear_merge(['aa', 'xx', 'zz'], ['bb', 'cc']),\n",
        "       ['aa', 'bb', 'cc', 'xx', 'zz']))\n",
        "  print('Actual: %s \\t\\t Expected: %s' % (linear_merge(['aa', 'xx'], ['bb', 'cc', 'zz']),\n",
        "       ['aa', 'bb', 'cc', 'xx', 'zz']))\n",
        "  print('Actual: %s \\t\\t Expected: %s' % (linear_merge(['aa', 'aa'], ['aa', 'bb', 'bb']),\n",
        "       ['aa', 'aa', 'aa', 'bb', 'bb']))"
      ]
    },
    {
      "cell_type": "code",
      "execution_count": null,
      "metadata": {
        "id": "IOHxSo9EHvWi",
        "colab": {
          "base_uri": "https://localhost:8080/"
        },
        "outputId": "85cd51b6-3b18-4d65-a852-8b4ea7e13bda"
      },
      "outputs": [
        {
          "output_type": "stream",
          "name": "stdout",
          "text": [
            "verbing\n",
            "Actual: hailing \t Expected: hailing\n",
            "Actual: swimingly \t Expected: swimingly\n",
            "Actual: do \t\t Expected: do\n",
            "\n",
            "\n",
            "not_bad\n",
            "Actual: This movie is good \t\t Expected: This movie is good\n",
            "Actual: This dinner is good \t\t Expected: This dinner is good!\n",
            "Actual: This tea is not hot \t\t Expected: This tea is not hot\n",
            "Actual: It's bad yet not \t\t Expected: It's bad yet not\n",
            "\n",
            "\n",
            "front_back\n",
            "Actual: abxcdy \t\t\t Expected: abxcdy\n",
            "Actual: abcxydez \t\t Expected: abcxydez\n",
            "Actual: KitDontenut \t\t Expected: KitDontenut\n",
            "\n",
            "\n",
            "remove_adjacent\n",
            "Actual: [1, 2, 3] \t Expected: [1, 2, 3]\n",
            "Actual: [2, 3] \t\t Expected: [2, 3]\n",
            "Actual: [] \t\t Expected: []\n",
            "\n",
            "\n",
            "linear_merge\n",
            "Actual: ['aa', 'bb', 'cc', 'xx', 'zz'] \t\t Expected: ['aa', 'bb', 'cc', 'xx', 'zz']\n",
            "Actual: ['aa', 'bb', 'cc', 'xx', 'zz'] \t\t Expected: ['aa', 'bb', 'cc', 'xx', 'zz']\n",
            "Actual: ['aa', 'aa', 'aa', 'bb', 'bb'] \t\t Expected: ['aa', 'aa', 'aa', 'bb', 'bb']\n"
          ]
        }
      ],
      "source": [
        "'''\n",
        "Python files .py are modules. Modules can define variables, functions, and classes.\n",
        "When a Python interpreter reads a Python file, it first sets a few special variables.\n",
        "Then it executes the code from the file.\n",
        "\n",
        "One of those variables is called __name__.\n",
        "\n",
        "When the interpreter runs a module, the __name__ variable will be set as  __main__\n",
        "if the module that is being run is the main program.\n",
        "\n",
        "If the code is importing the module from another module, then the __name__\n",
        "variable will be set to that module’s name.\n",
        "'''\n",
        "# Standard boilerplate to call the main() function.\n",
        "if __name__ == '__main__':\n",
        "  main()"
      ]
    }
  ],
  "metadata": {
    "colab": {
      "provenance": []
    },
    "kernelspec": {
      "name": "python3",
      "display_name": "Python 3"
    },
    "language_info": {
      "name": "python"
    }
  },
  "nbformat": 4,
  "nbformat_minor": 0
}